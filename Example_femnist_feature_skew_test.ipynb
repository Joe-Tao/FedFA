{
 "cells": [
  {
   "cell_type": "code",
   "execution_count": null,
   "id": "d366dfbd-683b-455b-8f94-90a49b673389",
   "metadata": {},
   "outputs": [],
   "source": [
    "import torch\n",
    "import torch.nn.functional as F\n",
    "import torchvision\n",
    "from torchvision import datasets, transforms \n",
    "from torch.utils.data import DataLoader\n",
    "from torchvision.datasets import FashionMNIST\n",
    "import torchvision.transforms as transforms\n",
    "\n",
    "import random, os\n",
    "import numpy as np\n",
    "from math import sqrt\n",
    "from matplotlib import pyplot as plt\n",
    "import pandas as pd\n",
    "import copy\n",
    "\n",
    "from fedlab.utils.dataset.partition import CIFAR10Partitioner\n",
    "from fedlab.utils.dataset import FMNISTPartitioner\n",
    "from fedlab.utils.functional import partition_report, save_dict\n",
    "    \n",
    "from args_femnist import args_parser\n",
    "import server_se1 as server\n",
    "import model\n",
    "\n",
    "from utils.global_test import test_on_globaldataset, globalmodel_test_on_localdataset,globalmodel_test_on_specifdataset,verify_feature_consistency\n",
    "from utils.local_test import test_on_localdataset\n",
    "from utils.femnist_dataset import *\n",
    "from utils.training_loss import train_loss_show,train_localacc_show\n",
    "from utils.sampling import *\n",
    "\n",
    "\n",
    "args = args_parser()\n",
    "\n",
    "\n",
    "def seed_torch(seed=args.seed):\n",
    "\trandom.seed(seed)\n",
    "\tos.environ['PYTHONHASHSEED'] = str(seed) \n",
    "\tnp.random.seed(seed)\n",
    "\ttorch.manual_seed(seed)\n",
    "\ttorch.cuda.manual_seed(seed)\n",
    "\ttorch.cuda.manual_seed_all(seed) # if you are using multi-GPU.\n",
    "\ttorch.backends.cudnn.benchmark = False\n",
    "\ttorch.backends.cudnn.deterministic = True\n",
    "\n",
    "seed_torch()\n",
    "GLOBAL_SEED = 1\n",
    "def worker_init_fn(worker_id):\n",
    "    global GLOBAL_WORKER_ID\n",
    "    GLOBAL_WORKER_ID = worker_id\n",
    "    set_seed(GLOBAL_SEED + worker_id)\n",
    "\n",
    "cka = False\n",
    "save_models = False\n",
    "Train_model = True"
   ]
  },
  {
   "cell_type": "code",
   "execution_count": null,
   "id": "be525f59-4cdb-4a7d-8264-a6f631782d29",
   "metadata": {},
   "outputs": [],
   "source": [
    "#Feature Distribution Skew"
   ]
  },
  {
   "cell_type": "code",
   "execution_count": null,
   "id": "a4b51bb5-5711-4483-a6fe-23406e538e87",
   "metadata": {
    "tags": []
   },
   "outputs": [],
   "source": [
    "class AddGaussianNoise(object):\n",
    "    def __init__(self, mean=0., std=1., net_id=None, total=0):\n",
    "        self.std = std\n",
    "        self.mean = mean\n",
    "        self.net_id = net_id\n",
    "        self.num = int(sqrt(total))\n",
    "        if self.num * self.num < total:\n",
    "            self.num = self.num + 1\n",
    "\n",
    "    def __call__(self, tensor):\n",
    "        if self.net_id is None:\n",
    "            return tensor + torch.randn(tensor.size()) * self.std + self.mean\n",
    "        else:\n",
    "            tmp = torch.randn(tensor.size())\n",
    "            filt = torch.zeros(tensor.size())\n",
    "            size = int(28 / self.num)\n",
    "            row = int(self.net_id / size)\n",
    "            col = self.net_id % size\n",
    "            for i in range(size):\n",
    "                for j in range(size):\n",
    "                    filt[:, row * size + i, col * size + j] = 1\n",
    "            tmp = tmp * filt\n",
    "            return tensor + tmp * self.std + self.mean\n",
    "\n",
    "    def __repr__(self):\n",
    "        return self.__class__.__name__ + '(mean={0}, std={1})'.format(self.mean, self.std)"
   ]
  },
  {
   "cell_type": "code",
   "execution_count": null,
   "id": "d159ee76-2b9f-481b-99b1-08f83fb3053d",
   "metadata": {},
   "outputs": [],
   "source": [
    "# noise = 0.1\n",
    "# num_clients = 10\n",
    "# img_idx = 17\n",
    "\n",
    "# fig = plt.figure(figsize=(15, 10))\n",
    "\n",
    "# for cid in range(num_clients):\n",
    "#     if cid == num_clients - 1:\n",
    "#         noise_level = 0\n",
    "#     else:\n",
    "#         noise_level = noise / num_clients * (cid + 1)  # a little different from original NIID-bench\n",
    "#     transform = transforms.Compose([transforms.ToTensor(),\n",
    "#                                     AddGaussianNoise(0., noise_level)])\n",
    "#     trainset_feature_skew = FashionMNIST(root=root, train=True, download=True, \n",
    "#                                          transform=transform)\n",
    "#     ax = fig.add_subplot(2, num_clients/2, cid + 1, xticks=[], yticks=[])\n",
    "#     ax.imshow(np.squeeze(trainset_feature_skew[img_idx][0]), cmap='viridis')\n",
    "#     ax.set_title(f\"Client {cid}: noise$\\sim$Gau({noise_level:.3f})\")\n",
    "#     ax.patch.set_facecolor('white')\n",
    "#     fig.tight_layout()\n",
    "    \n",
    "# # fig.savefig(\"../imgs/fmnist_feature_skew_vis.png\", dpi=400, bbox_inches = 'tight'"
   ]
  },
  {
   "cell_type": "code",
   "execution_count": null,
   "id": "ae7d2047-5fd7-4e2b-8f59-8e819cbc3f63",
   "metadata": {},
   "outputs": [],
   "source": [
    "root = \"data/femnist/\"\n",
    "root_logger = \"data/femnist/logger/\"\n",
    "\n",
    "transform = transforms.Compose([transforms.ToTensor()])\n",
    "trainset = FEMNIST(root, train=True, transform=transform, download=True)\n",
    "testset = FEMNIST(root, train=False, transform=transform, download=True)"
   ]
  },
  {
   "cell_type": "code",
   "execution_count": null,
   "id": "694725df-1ee1-425c-a60c-aa2f92ac37aa",
   "metadata": {},
   "outputs": [],
   "source": [
    "_, _, _, _, dict_users_train, traindata_cls_counts = partition_data(\n",
    "    args = args,\n",
    "    dataset = \"femnist\", \n",
    "    datadir = root, \n",
    "    logdir = root_logger, \n",
    "    partition = \"transfer-from-femnist\", \n",
    "    n_parties = args.K)"
   ]
  },
  {
   "cell_type": "code",
   "execution_count": null,
   "id": "ac4852be-dbe3-4af0-962e-11c822b3f6d3",
   "metadata": {},
   "outputs": [],
   "source": [
    "_, _, _, _, dict_users_train_iid, traindata_cls_counts = partition_data(\n",
    "    args = args,\n",
    "    dataset = \"femnist\", \n",
    "    datadir = root, \n",
    "    logdir = root_logger, \n",
    "    partition = \"homo\", \n",
    "    n_parties = args.K)"
   ]
  },
  {
   "cell_type": "code",
   "execution_count": null,
   "id": "a2ef75b7-ed34-4df9-8d44-ba314a882c5c",
   "metadata": {},
   "outputs": [],
   "source": [
    "### class-based  "
   ]
  },
  {
   "cell_type": "code",
   "execution_count": null,
   "id": "08dfe2d4-75ca-4700-b86a-d5d9778e363d",
   "metadata": {},
   "outputs": [],
   "source": [
    "num_classes = args.num_classes\n",
    "num_clients = args.K\n",
    "number_perclass = args.num_perclass\n",
    " \n",
    "\n",
    "col_names = [f\"class{i}\" for i in range(num_classes)]\n",
    "print(col_names)\n",
    "hist_color = '#4169E1'\n",
    "plt.rcParams['figure.facecolor'] = 'white'"
   ]
  },
  {
   "cell_type": "code",
   "execution_count": null,
   "id": "e1b34905-91d8-4688-b344-2acf5bf816ab",
   "metadata": {},
   "outputs": [],
   "source": [
    "# # perform partition\n",
    "# noniid_labeldir_part = FMNISTPartitioner(trainset.targets,  \n",
    "#                                            num_clients=num_clients,\n",
    "#                                            partition=\"noniid-#label\", \n",
    "#                                            major_classes_num=2,\n",
    "#                                            seed=args.seed)\n",
    "# # generate partition report\n",
    "# csv_file = \"data/fmnist/fmnist_noniid_labeldir_clients_10.csv\"\n",
    "# partition_report(trainset.targets, noniid_labeldir_part.client_dict, \n",
    "#                  class_num=num_classes, \n",
    "#                  verbose=False, file=csv_file)\n",
    "\n",
    "# noniid_labeldir_part_df = pd.read_csv(csv_file,header=1)\n",
    "# noniid_labeldir_part_df = noniid_labeldir_part_df.set_index('client')\n",
    "# for col in col_names:\n",
    "#     noniid_labeldir_part_df[col] = (noniid_labeldir_part_df[col] * noniid_labeldir_part_df['Amount']).astype(int)\n",
    "\n",
    "# # select first 10 clients for bar plot\n",
    "# noniid_labeldir_part_df[col_names].iloc[:10].plot.barh(stacked=True)  \n",
    "# # plt.tight_layout()\n",
    "# plt.legend(loc='center left', bbox_to_anchor=(1, 0.5))\n",
    "# plt.xlabel('sample num')\n",
    "# plt.savefig(f\"data/fmnist//fmnist_noniid_labeldir_clients_10.png\", \n",
    "#             dpi=400, bbox_inches = 'tight')\n",
    "\n",
    "# # split dataset into training and testing"
   ]
  },
  {
   "cell_type": "code",
   "execution_count": null,
   "id": "03e2baf5-ad31-45e2-b537-e3ce0e80f14f",
   "metadata": {},
   "outputs": [],
   "source": [
    "### Distribution-based (Dirichlet)"
   ]
  },
  {
   "cell_type": "code",
   "execution_count": null,
   "id": "af00c6b9-5367-4c60-8557-afebbd6b8c20",
   "metadata": {
    "tags": []
   },
   "outputs": [],
   "source": [
    "# # perform partition\n",
    "# noniid_labeldir_part = FMNISTPartitioner(trainset.targets, \n",
    "#                                         num_clients=num_clients,\n",
    "#                                         partition=\"noniid-labeldir\", \n",
    "#                                         dir_alpha=0.1,\n",
    "#                                         seed=args.seed)\n",
    "\n",
    "# # generate partition report\n",
    "# csv_file = \"data/fmnist/fmnist_noniid_labeldir_clients_10.csv\"\n",
    "# partition_report(trainset.targets, noniid_labeldir_part.client_dict, \n",
    "#                  class_num=num_classes, \n",
    "#                  verbose=False, file=csv_file)\n",
    "\n",
    "# noniid_labeldir_part_df = pd.read_csv(csv_file,header=1)\n",
    "# noniid_labeldir_part_df = noniid_labeldir_part_df.set_index('client')\n",
    "# for col in col_names:\n",
    "#     noniid_labeldir_part_df[col] = (noniid_labeldir_part_df[col] * noniid_labeldir_part_df['Amount']).astype(int)\n",
    "\n",
    "# # select first 10 clients for bar plot\n",
    "# noniid_labeldir_part_df[col_names].iloc[:10].plot.barh(stacked=True)  \n",
    "# # plt.tight_layout()\n",
    "# plt.legend(loc='center left', bbox_to_anchor=(1, 0.5))\n",
    "# plt.xlabel('sample num')\n",
    "# plt.savefig(f\"data/fmnist//fmnist_noniid_labeldir_clients_10.png\", \n",
    "#             dpi=400, bbox_inches = 'tight')"
   ]
  },
  {
   "cell_type": "code",
   "execution_count": null,
   "id": "e85a8c85-ec30-4678-b11f-78b6213eceff",
   "metadata": {},
   "outputs": [],
   "source": [
    "# Quantity Skew (label)"
   ]
  },
  {
   "cell_type": "code",
   "execution_count": null,
   "id": "6ad12d3d-9bda-436f-b95d-157557fb027e",
   "metadata": {},
   "outputs": [],
   "source": [
    "# # perform partition\n",
    "# noniid_labeldir_part = FMNISTPartitioner(trainset.targets, \n",
    "#                                   num_clients=num_clients,\n",
    "#                                   partition=\"unbalance\", \n",
    "#                                   dir_alpha=0.5,\n",
    "#                                   seed=args.seed)\n",
    "\n",
    "# # generate partition report\n",
    "# csv_file = \"data/fmnist//fmnist_unbalance_clients_10.csv\"\n",
    "# partition_report(trainset.targets, noniid_labeldir_part.client_dict, \n",
    "#                  class_num=num_classes, \n",
    "#                  verbose=False, file=csv_file)\n",
    "\n",
    "# noniid_labeldir_part_df = pd.read_csv(csv_file,header=1)\n",
    "# noniid_labeldir_part_df = noniid_labeldir_part_df.set_index('client')\n",
    "# for col in col_names:\n",
    "#     noniid_labeldir_part_df[col] = (noniid_labeldir_part_df[col] * noniid_labeldir_part_df['Amount']).astype(int)\n",
    "\n",
    "# # select first 10 clients for bar plot\n",
    "# noniid_labeldir_part_df[col_names].iloc[:10].plot.barh(stacked=True)  \n",
    "# # plt.tight_layout()\n",
    "# plt.legend(loc='center left', bbox_to_anchor=(1, 0.5))\n",
    "# plt.xlabel('sample num')\n",
    "# plt.savefig(f\"data/fmnist/fmnist_unbalance_clients_10.png\", \n",
    "#             dpi=400, bbox_inches = 'tight')"
   ]
  },
  {
   "cell_type": "code",
   "execution_count": null,
   "id": "73a294da-cbcc-4de2-be7c-6c777db1ce6b",
   "metadata": {},
   "outputs": [],
   "source": [
    "# noniid_labeldir_part_df"
   ]
  },
  {
   "cell_type": "code",
   "execution_count": null,
   "id": "3333eeec-9d1d-475a-8765-677067a993f7",
   "metadata": {},
   "outputs": [],
   "source": [
    "clients_labeset_femnist = {i:set(np.array(trainset.targets)[list(dict_users_train[1])]) for i in range(args.K)}"
   ]
  },
  {
   "cell_type": "code",
   "execution_count": null,
   "id": "a1184166-2d41-4511-8d0e-b3a77c3cc3da",
   "metadata": {},
   "outputs": [],
   "source": [
    "trainset_sample_rate = args.trainset_sample_rate\n",
    "rare_class_nums = 0\n",
    "dict_users_train = trainset_sampling_label_femnist(args, trainset, trainset_sample_rate, rare_class_nums, dict_users_train) \n",
    "dict_users_test = testset_sampling_femnist(args, testset, number_perclass, clients_labeset_femnist)"
   ]
  },
  {
   "cell_type": "code",
   "execution_count": null,
   "id": "4859d57d-3bb4-4dc2-8b54-feef0e5e90f2",
   "metadata": {},
   "outputs": [],
   "source": [
    "training_number = {j:{}  for j in range(args.K)}\n",
    "\n",
    "for i in range(args.K):\n",
    "    training_number[i] = {j: 0 for  j in range(num_classes)}\n",
    "    label_class = set (np.array(trainset.targets)[list(dict_users_train[i])].tolist())\n",
    "    #print(list(label_class))\n",
    "    for k in label_class:\n",
    "        training_number[i][k] = list(np.array(trainset.targets)[list(dict_users_train[i])]).count(k)"
   ]
  },
  {
   "cell_type": "code",
   "execution_count": null,
   "id": "0d7b5b17-613a-4f20-b49d-f05b84f35eb5",
   "metadata": {},
   "outputs": [],
   "source": [
    "df_training_number=[]\n",
    "df_training_number=pd.DataFrame(df_training_number)\n",
    "for i in range(args.K):\n",
    "    temp = pd.Series(training_number[i])\n",
    "    df_training_number[i]= temp\n",
    "    \n",
    "df_training_number['Col_sum'] = df_training_number.apply(lambda x: x.sum(), axis=1)\n",
    "df_training_number.loc['Row_sum'] = df_training_number.apply(lambda x: x.sum())\n",
    "\n",
    "df_training_number"
   ]
  },
  {
   "cell_type": "code",
   "execution_count": null,
   "id": "c988a9a3-d048-47ba-ba26-71000a132df4",
   "metadata": {},
   "outputs": [],
   "source": [
    "test_number = {j:{}  for j in range(args.K)}\n",
    "\n",
    "for i in range(args.K):\n",
    "    test_number[i] = {j: 0 for  j in range(num_classes)}\n",
    "    label_class = set (np.array(testset.targets)[list(dict_users_test[i])].tolist())\n",
    "    #print(list(label_class))\n",
    "    for k in label_class:\n",
    "        test_number[i][k] = list(np.array(testset.targets)[list(dict_users_test[i])]).count(k)"
   ]
  },
  {
   "cell_type": "code",
   "execution_count": null,
   "id": "0f91a4e1-826d-496f-b867-778d8c4fd066",
   "metadata": {},
   "outputs": [],
   "source": [
    "df_test_number=[]\n",
    "df_test_number=pd.DataFrame(df_test_number)\n",
    "for i in range(args.K):\n",
    "    temp = pd.Series(test_number[i])\n",
    "    df_test_number[i]= temp\n",
    "    \n",
    "df_test_number['Col_sum'] = df_test_number.apply(lambda x: x.sum(), axis=1)\n",
    "df_test_number.loc['Row_sum'] = df_test_number.apply(lambda x: x.sum())\n",
    "\n",
    "df_test_number"
   ]
  },
  {
   "cell_type": "code",
   "execution_count": null,
   "id": "e3c882ef-33e8-477e-961f-51fe5917c6fa",
   "metadata": {},
   "outputs": [],
   "source": [
    "# # perform partition\n",
    "# iid_part = FMNISTPartitioner(trainset.targets, \n",
    "#                             num_clients=num_clients,\n",
    "#                             partition=\"iid\",\n",
    "#                             seed=args.seed)\n",
    "\n",
    "# # generate partition report\n",
    "# csv_file = \"data/fmnist/fmnist_iid_clients_10.csv\"\n",
    "# partition_report(trainset.targets, iid_part.client_dict, \n",
    "#                  class_num=num_classes, \n",
    "#                  verbose=False, file=csv_file)\n",
    "\n",
    "# iid_part_df = pd.read_csv(csv_file,header=1)\n",
    "# iid_part_df = iid_part_df.set_index('client')\n",
    "# for col in col_names:\n",
    "#     iid_part_df[col] = (iid_part_df[col] * iid_part_df['Amount']).astype(int)\n",
    "\n",
    "# # select first 10 clients for bar plot\n",
    "# iid_part_df[col_names].iloc[:10].plot.barh(stacked=True)  \n",
    "# # plt.tight_layout()\n",
    "# plt.legend(loc='center left', bbox_to_anchor=(1, 0.5))\n",
    "# plt.xlabel('sample num')\n",
    "# plt.savefig(f\"data/fmnist/fmnist_iid_clients_10.png\", \n",
    "#             dpi=400, bbox_inches = 'tight')"
   ]
  },
  {
   "cell_type": "code",
   "execution_count": null,
   "id": "ac4f9230-0b08-49ba-a82d-e41c7bcfb8a2",
   "metadata": {},
   "outputs": [],
   "source": [
    "clients_labeset_femnist_iid = {i:set(np.array(trainset.targets)[list(dict_users_train_iid[i])]) for i in range(args.K)}"
   ]
  },
  {
   "cell_type": "code",
   "execution_count": null,
   "id": "45097c7c-75d6-4b09-a83f-2ae98e26544e",
   "metadata": {},
   "outputs": [],
   "source": [
    "dict_users_train_iid = trainset_sampling_label_femnist(args, trainset, trainset_sample_rate,rare_class_nums, dict_users_train_iid) \n",
    "dict_users_test_iid = testset_sampling_femnist(args, testset, number_perclass, clients_labeset_femnist_iid)"
   ]
  },
  {
   "cell_type": "code",
   "execution_count": null,
   "id": "cfeb13cf-1d9a-4c2a-8e70-c262aa482f05",
   "metadata": {},
   "outputs": [],
   "source": [
    "test_number = {j:{}  for j in range(args.K)}\n",
    "\n",
    "for i in range(args.K):\n",
    "    test_number[i] = {j: 0 for  j in range(num_classes)}\n",
    "    label_class = set (np.array(testset.targets)[list(dict_users_test_iid[i])].tolist())\n",
    "    #print(list(label_class))\n",
    "    for k in label_class:\n",
    "        test_number[i][k] = list(np.array(testset.targets)[list(dict_users_test_iid[i])]).count(k)"
   ]
  },
  {
   "cell_type": "code",
   "execution_count": null,
   "id": "e3b18889-44c5-4c66-9772-f5f458785660",
   "metadata": {},
   "outputs": [],
   "source": [
    "df_test_number=[]\n",
    "df_test_number=pd.DataFrame(df_test_number)\n",
    "for i in range(args.K):\n",
    "    temp = pd.Series(test_number[i])\n",
    "    df_test_number[i]= temp\n",
    "    \n",
    "df_test_number['Col_sum'] = df_test_number.apply(lambda x: x.sum(), axis=1)\n",
    "df_test_number.loc['Row_sum'] = df_test_number.apply(lambda x: x.sum())\n",
    "\n",
    "df_test_number"
   ]
  },
  {
   "cell_type": "code",
   "execution_count": null,
   "id": "48ca7a43-30aa-413c-ae51-2c8e5ef7fac1",
   "metadata": {},
   "outputs": [],
   "source": [
    "training_number_iid = {j:{}  for j in range(args.K)}\n",
    "\n",
    "for i in range(args.K):\n",
    "    training_number_iid[i] = {j: 0 for  j in range(num_classes)}\n",
    "    label_class = set (np.array(trainset.targets)[list(dict_users_train_iid[i])].tolist())\n",
    "    #print(list(label_class))\n",
    "    for k in label_class:\n",
    "        training_number_iid[i][k] = list(np.array(trainset.targets)[list(dict_users_train_iid[i])]).count(k)"
   ]
  },
  {
   "cell_type": "code",
   "execution_count": null,
   "id": "53dd12be-9f95-4c73-8e9a-1c411fa2ec22",
   "metadata": {},
   "outputs": [],
   "source": [
    "df_training_number_iid=[]\n",
    "df_training_number_iid=pd.DataFrame(df_training_number_iid)\n",
    "for i in range(args.K):\n",
    "    temp = pd.Series(training_number_iid[i])\n",
    "    df_training_number_iid[i]= temp\n",
    "    \n",
    "df_training_number_iid['Col_sum'] = df_training_number_iid.apply(lambda x: x.sum(), axis=1)\n",
    "df_training_number_iid.loc['Row_sum'] = df_training_number_iid.apply(lambda x: x.sum())\n",
    "\n",
    "df_training_number_iid"
   ]
  },
  {
   "cell_type": "code",
   "execution_count": null,
   "id": "059e0334-9962-4e97-8665-bfed5eab36c1",
   "metadata": {},
   "outputs": [],
   "source": [
    "specf_model = model.Client_Model(args, name=\"fmnist\").to(args.device)"
   ]
  },
  {
   "cell_type": "code",
   "execution_count": null,
   "id": "175ef577-c687-4414-ad75-2d3ba958a9d6",
   "metadata": {},
   "outputs": [],
   "source": [
    "serverz = server.Server(args, specf_model, trainset, dict_users_train)#dict_users指的是user的local dataset索引"
   ]
  },
  {
   "cell_type": "code",
   "execution_count": null,
   "id": "bde1e9bb-c144-4f89-8091-33cac48acce1",
   "metadata": {},
   "outputs": [],
   "source": [
    "C = \"_2CNN\""
   ]
  },
  {
   "cell_type": "code",
   "execution_count": null,
   "id": "1ea0aa89-ffa2-4e5d-bb8d-bd52327b8e65",
   "metadata": {},
   "outputs": [],
   "source": [
    "#  baseline----> iid setting with fedavg"
   ]
  },
  {
   "cell_type": "code",
   "execution_count": null,
   "id": "11292347-c249-412f-a5bf-6ad51f7b5fa8",
   "metadata": {},
   "outputs": [],
   "source": [
    "server_iid = server.Server(args, specf_model, trainset, dict_users_train_iid)"
   ]
  },
  {
   "cell_type": "code",
   "execution_count": null,
   "id": "771168c0-2094-4e9e-bb3e-aca065836338",
   "metadata": {},
   "outputs": [],
   "source": [
    "if Train_model:\n",
    "    global_model_iid, _, client_models_iid, loss_dict_iid, clients_index_iid, acc_list_iid = server_iid.fedavg_joint_update(testset, dict_users_test_iid[0], test_global_model_accuracy = True)\n",
    "else:\n",
    "    acc_list_iid = torch.load(\"results/Test/feature skew/emnist/iid-fedavg/seed{}/acc_list_iid_{}E_{}class.pt\".format(args.seed,args.E,C))\n",
    "    global_model_iid = server_iid.nn\n",
    "    client_models_iid = server_iid.nns\n",
    "    path_iid_fedavg = \"results/Test/feature skew/emnist/iid-fedavg/seed{}/global_model_iid-fedavg_{}E_{}class.pt\".format(args.seed,args.E,C)\n",
    "    global_model_iid.load_state_dict(torch.load(path_iid_fedavg))\n",
    "    for i in range(args.K):\n",
    "        path_iid_fedavg = \"results/Test/feature skew/emnist/iid-fedavg/seed{}/client{}_model_iid-fedavg_{}E_{}class.pt\".format(args.seed,i,args.E,C)\n",
    "        client_models_iid[i].load_state_dict(torch.load(path_iid_fedavg))"
   ]
  },
  {
   "cell_type": "code",
   "execution_count": null,
   "id": "912b4340-7fc1-48ef-be45-30b569d4463d",
   "metadata": {},
   "outputs": [],
   "source": [
    "if save_models:\n",
    "    torch.save(acc_list_iid,\"results/Test/feature skew/emnist/iid-fedavg/seed{}/acc_list_iid_{}E_{}class.pt\".format(args.seed,args.E,C))\n",
    "    path_iid_fedavg = \"results/Test/feature skew/emnist/iid-fedavg/seed{}/global_model_iid-fedavg_{}E_{}class.pt\".format(args.seed,args.E,C)\n",
    "    torch.save(global_model_iid.state_dict(), path_iid_fedavg)"
   ]
  },
  {
   "cell_type": "code",
   "execution_count": null,
   "id": "b82bc8d0-c65b-4ea8-8fd9-5b4f60590979",
   "metadata": {},
   "outputs": [],
   "source": [
    "g_iid,_ = test_on_globaldataset(args, global_model_iid, testset)\n",
    "g_iid"
   ]
  },
  {
   "cell_type": "code",
   "execution_count": null,
   "id": "f42c3dea-9a26-448b-9a05-e062dfbac1b3",
   "metadata": {},
   "outputs": [],
   "source": [
    "a_iid,_ =globalmodel_test_on_localdataset(args,global_model_iid, testset,dict_users_test_iid)\n",
    "np.mean(list(a_iid.values()))"
   ]
  },
  {
   "cell_type": "code",
   "execution_count": null,
   "id": "77f661a6-7e0d-438c-aaa3-24cdb3b6d0aa",
   "metadata": {},
   "outputs": [],
   "source": [
    "if Train_model:\n",
    "    train_loss_show(args, loss_dict_iid,clients_index_iid)\n",
    "    plt.plot(range(args.r), acc_list_iid)"
   ]
  },
  {
   "cell_type": "code",
   "execution_count": null,
   "id": "da714385-7870-4f8b-94bc-05e56ccae7a8",
   "metadata": {},
   "outputs": [],
   "source": [
    "#  baseline---->fedavg"
   ]
  },
  {
   "cell_type": "code",
   "execution_count": null,
   "id": "8ed6ae08-6b85-4529-bb8d-a2e1aa336d21",
   "metadata": {},
   "outputs": [],
   "source": [
    "server_fedavg =  copy.deepcopy(serverz)#dict_users指的是user的local dataset索引"
   ]
  },
  {
   "cell_type": "code",
   "execution_count": null,
   "id": "0f368b4c-66a4-4895-9823-ee3e80270788",
   "metadata": {},
   "outputs": [],
   "source": [
    "if Train_model:\n",
    "    global_model1, personalized_models1, client_models1, loss_dict1, clients_index1, acc_list1 = server_fedavg.fedavg_joint_update(testset, dict_users_test_iid[0],test_global_model_accuracy = True)\n",
    "else:\n",
    "    acc_list1 = torch.load(\"results/Test/feature skew/emnist/fedavg/seed{}/acc_list1_{}E_{}class.pt\".format(args.seed,args.E,C))\n",
    "    global_model1 = server_fedavg.nn\n",
    "    client_models1 = server_fedavg.nns\n",
    "    path_fedavg = \"results/Test/feature skew/emnist/fedavg/seed{}/global_model_fedavg_{}E_{}class.pt\".format(args.seed,args.E,C)\n",
    "    global_model1.load_state_dict(torch.load(path_fedavg))\n",
    "    for i in range(args.K):\n",
    "        path_fedavg = \"results/Test/feature skew/emnist/fedavg/seed{}/client{}_model_fedavg_{}E_{}class.pt\".format(args.seed,i,args.E,C)\n",
    "        client_models1[i].load_state_dict(torch.load(path_fedavg))"
   ]
  },
  {
   "cell_type": "code",
   "execution_count": null,
   "id": "ad187509-20e9-4234-ab40-73fb682c03eb",
   "metadata": {},
   "outputs": [],
   "source": [
    "if save_models:\n",
    "    torch.save(acc_list1,\"results/Test/feature skew/emnist/fedavg/seed{}/acc_list1_{}E_{}class.pt\".format(args.seed,args.E,C))\n",
    "    path_fedavg = \"results/Test/feature skew/emnist/fedavg/seed{}/global_model_fedavg_{}E_{}class.pt\".format(args.seed,args.E,C)\n",
    "    torch.save(global_model1.state_dict(), path_fedavg)"
   ]
  },
  {
   "cell_type": "code",
   "execution_count": null,
   "id": "3cc7b1f4-3868-4304-85a2-b521633338a6",
   "metadata": {},
   "outputs": [],
   "source": [
    "g1,_ = test_on_globaldataset(args, global_model1, testset)\n",
    "g1"
   ]
  },
  {
   "cell_type": "code",
   "execution_count": null,
   "id": "bc4262d0-6b5d-4da5-8689-26229b334009",
   "metadata": {},
   "outputs": [],
   "source": [
    "a1,_ =globalmodel_test_on_localdataset(args,global_model1, testset,dict_users_test)\n",
    "np.mean(list(a1.values()))"
   ]
  },
  {
   "cell_type": "code",
   "execution_count": null,
   "id": "3bf4d96f-918c-46ab-9e14-da226481be70",
   "metadata": {},
   "outputs": [],
   "source": [
    "if Train_model:\n",
    "    train_loss_show(args, loss_dict1,clients_index1)"
   ]
  },
  {
   "cell_type": "code",
   "execution_count": null,
   "id": "329359d5-4a05-401c-83ea-14222310abd5",
   "metadata": {},
   "outputs": [],
   "source": [
    "#  baseline---->fedprox"
   ]
  },
  {
   "cell_type": "code",
   "execution_count": null,
   "id": "8bfe3993-f518-42a2-84ac-821e029b41d7",
   "metadata": {},
   "outputs": [],
   "source": [
    "server_fedprox_joint = copy.deepcopy(serverz)"
   ]
  },
  {
   "cell_type": "code",
   "execution_count": null,
   "id": "33cbde86-8ce6-4497-a462-520130dbb524",
   "metadata": {},
   "outputs": [],
   "source": [
    "if Train_model:\n",
    "    global_modelp, _, client_modelsp, loss_dictp, clients_indexp, acc_listp = server_fedprox_joint.fedprox_joint_update(testset, dict_users_test_iid[0],test_global_model_accuracy = True)\n",
    "else:\n",
    "    acc_listp = torch.load(\"results/Test/feature skew/emnist/fedprox/seed{}/acc_listp_{}E_{}class.pt\".format(args.seed,args.E,C))\n",
    "    global_modelp = server_fedprox_joint.nn\n",
    "    client_modelsp = server_fedprox_joint.nns\n",
    "    path_fedprox = \"results/Test/feature skew/emnist/fedprox/seed{}/global_model_fedprox_{}E_{}class.pt\".format(args.seed,args.E,C)\n",
    "    global_modelp.load_state_dict(torch.load(path_fedprox))\n",
    "    for i in range(args.K):\n",
    "        path_fedprox = \"results/Test/feature skew/emnist/fedprox/seed{}/client{}_{}E_{}class.pt\".format(args.seed,i,args.E,C)\n",
    "        client_modelsp[i].load_state_dict(torch.load(path_fedprox))"
   ]
  },
  {
   "cell_type": "code",
   "execution_count": null,
   "id": "72da3e52-a430-4906-a110-d4f350657da7",
   "metadata": {},
   "outputs": [],
   "source": [
    "if save_models:\n",
    "    torch.save(acc_listp,\"results/Test/feature skew/emnist/fedprox/seed{}/acc_listp_{}E_{}class.pt\".format(args.seed,args.E,C))\n",
    "    path_fedprox = \"results/Test/feature skew/emnist/fedprox/seed{}/global_model_fedprox_{}E_{}class.pt\".format(args.seed,args.E,C)\n",
    "    torch.save(global_modelp.state_dict(), path_fedprox)"
   ]
  },
  {
   "cell_type": "code",
   "execution_count": null,
   "id": "a730d143-d0fb-48cb-b94a-4ed978390a0e",
   "metadata": {},
   "outputs": [],
   "source": [
    "gp,_ = test_on_globaldataset(args, global_modelp, testset)\n",
    "gp"
   ]
  },
  {
   "cell_type": "code",
   "execution_count": null,
   "id": "d423c7e1-29a5-4d31-97ef-5cae74645281",
   "metadata": {},
   "outputs": [],
   "source": [
    "ap,_ =globalmodel_test_on_localdataset(args,global_modelp, testset,dict_users_test)\n",
    "np.mean(list(ap.values()))"
   ]
  },
  {
   "cell_type": "code",
   "execution_count": null,
   "id": "dfc68181-4289-46a6-b565-c319cae0dc08",
   "metadata": {},
   "outputs": [],
   "source": [
    "if Train_model:\n",
    "    train_loss_show(args, loss_dictp,clients_indexp)"
   ]
  },
  {
   "cell_type": "code",
   "execution_count": null,
   "id": "e9608dfe-5a3e-438b-af68-3083595b1fd1",
   "metadata": {},
   "outputs": [],
   "source": [
    "#  baseline---->feddyn"
   ]
  },
  {
   "cell_type": "code",
   "execution_count": null,
   "id": "2a820d0a-9934-4ea2-af6b-55e68a83b5ad",
   "metadata": {},
   "outputs": [],
   "source": [
    "server_feddyn = copy.deepcopy(serverz)"
   ]
  },
  {
   "cell_type": "code",
   "execution_count": null,
   "id": "5b38e368-22f7-4574-8674-bb85d1d4dd29",
   "metadata": {},
   "outputs": [],
   "source": [
    "if Train_model:\n",
    "    global_modeldyn, personalized_modeldyn, client_modelsdyn, loss_dictdyn, clients_indexdyn, acc_listdyn = server_feddyn.feddyn(testset, dict_users_test_iid[0],test_global_model_accuracy = True)\n",
    "else:\n",
    "    acc_listdyn = torch.load(\"results/Test/feature skew/emnist/feddyn/seed{}/acc_listdyn_{}E_{}class.pt\".format(args.seed,args.E,C))\n",
    "    global_modeldyn = server_feddyn.nn\n",
    "    client_modelsdyn = server_feddyn.nns\n",
    "    path_feddyn = \"results/Test/feature skew/emnist/feddyn/seed{}/global_model_feddyn_{}E_{}class.pt\".format(args.seed,args.E,C)\n",
    "    global_modeldyn.load_state_dict(torch.load(path_feddyn))\n",
    "    for i in range(args.K):\n",
    "        path_feddyn = \"results/Test/feature skew/emnist/feddyn/seed{}/client{}_model_feddyn_{}E_{}class.pt\".format(args.seed,i,args.E,C)\n",
    "        client_modelsdyn[i].load_state_dict(torch.load(path_feddyn))"
   ]
  },
  {
   "cell_type": "code",
   "execution_count": null,
   "id": "46ad95cc-6b3a-436b-b907-08c2808d3747",
   "metadata": {},
   "outputs": [],
   "source": [
    "if save_models:\n",
    "    torch.save(acc_listdyn,\"results/Test/feature skew/emnist/feddyn/seed{}/acc_listdyn_{}E_{}class.pt\".format(args.seed,args.E,C))\n",
    "    path_feddyn = \"results/Test/feature skew/emnist/feddyn/seed{}/global_model_feddyn_{}E_{}class.pt\".format(args.seed,args.E,C)\n",
    "    torch.save(global_modeldyn.state_dict(), path_feddyn)"
   ]
  },
  {
   "cell_type": "code",
   "execution_count": null,
   "id": "d32103fd-845d-4207-8e44-4361a7b93dc4",
   "metadata": {},
   "outputs": [],
   "source": [
    "gdyn,_ = test_on_globaldataset(args, global_modeldyn, testset)\n",
    "gdyn"
   ]
  },
  {
   "cell_type": "code",
   "execution_count": null,
   "id": "534243b1-91df-4d9d-a2c0-a800972229e0",
   "metadata": {},
   "outputs": [],
   "source": [
    "adyn,_ =globalmodel_test_on_localdataset(args,global_modeldyn, testset,dict_users_test)\n",
    "np.mean(list(adyn.values()))"
   ]
  },
  {
   "cell_type": "code",
   "execution_count": null,
   "id": "8a3a4508-654f-45c0-896e-b03439e2529f",
   "metadata": {},
   "outputs": [],
   "source": [
    "if Train_model:\n",
    "    train_loss_show(args, loss_dictdyn,clients_indexdyn)"
   ]
  },
  {
   "cell_type": "code",
   "execution_count": null,
   "id": "4ac457c2-975c-4bb7-9592-6b8f71e01e28",
   "metadata": {},
   "outputs": [],
   "source": [
    "#  baseline---->moon"
   ]
  },
  {
   "cell_type": "code",
   "execution_count": null,
   "id": "2b15cd23-4d38-49a9-9ff0-50c813616a65",
   "metadata": {},
   "outputs": [],
   "source": [
    "server_moon = copy.deepcopy(serverz)\n",
    "if Train_model:\n",
    "    global_modelm, _, client_modelsm, loss_dictm, clients_indexm, acc_listm = server_moon.moon(testset, dict_users_test_iid[0],test_global_model_accuracy = True)\n",
    "else:\n",
    "    acc_listm = torch.load(\"results/Test/feature skew/emnist/moon/seed{}/acc_listm_{}E_{}class.pt\".format(args.seed,args.E,C))\n",
    "    global_modelm = server_moon.nn\n",
    "    client_modelsm = server_moon.nns\n",
    "    path_moon = \"results/Test/feature skew/emnist/moon/seed{}/global_model_moon_{}E_{}class.pt\".format(args.seed,args.E,C)\n",
    "    global_modelm.load_state_dict(torch.load(path_moon))\n",
    "    for i in range(args.K):\n",
    "        path_moon = \"results/Test/feature skew/emnist/moon/seed{}/client{}_model_moon_{}E_{}class.pt\".format(args.seed,i,args.E,C)\n",
    "        client_modelsm[i].load_state_dict(torch.load(path_moon))"
   ]
  },
  {
   "cell_type": "code",
   "execution_count": null,
   "id": "fa790a2c-2918-49a7-a88d-a1ddc36fc5e6",
   "metadata": {},
   "outputs": [],
   "source": [
    "if save_models:\n",
    "    torch.save(acc_listm,\"results/Test/feature skew/emnist/moon/seed{}/acc_listm_{}E_{}class.pt\".format(args.seed,args.E,C))\n",
    "    path_moon = \"results/Test/feature skew/emnist/moon/seed{}/global_model_moon_{}E_{}class.pt\".format(args.seed,args.E,C)\n",
    "    torch.save(global_modelm.state_dict(), path_moon)"
   ]
  },
  {
   "cell_type": "code",
   "execution_count": null,
   "id": "20f49b04-baaf-4474-bcf6-eb17921d1d63",
   "metadata": {},
   "outputs": [],
   "source": [
    "gm,_ = test_on_globaldataset(args, global_modelm, testset)\n",
    "gm"
   ]
  },
  {
   "cell_type": "code",
   "execution_count": null,
   "id": "4715b495-f96c-40c4-83af-cd860c019500",
   "metadata": {},
   "outputs": [],
   "source": [
    "am,_ =globalmodel_test_on_localdataset(args,global_modelm, testset,dict_users_test)\n",
    "np.mean(list(am.values()))"
   ]
  },
  {
   "cell_type": "code",
   "execution_count": null,
   "id": "75c3787a-2a18-48a8-bac3-5e2fbc4e4257",
   "metadata": {},
   "outputs": [],
   "source": [
    "if Train_model:\n",
    "    train_loss_show(args, loss_dictm,clients_indexm)"
   ]
  },
  {
   "cell_type": "code",
   "execution_count": null,
   "id": "fd5a8dd8-12ae-4745-8cce-753ae54776f3",
   "metadata": {},
   "outputs": [],
   "source": [
    "#baseline fedproc"
   ]
  },
  {
   "cell_type": "code",
   "execution_count": null,
   "id": "43547423-0eb2-4a83-b634-a7ab695e572f",
   "metadata": {},
   "outputs": [],
   "source": [
    "server_fedproc =  copy.deepcopy(serverz)"
   ]
  },
  {
   "cell_type": "code",
   "execution_count": null,
   "id": "f9184226-b975-41fe-8f34-b21a7aa046dd",
   "metadata": {},
   "outputs": [],
   "source": [
    "if Train_model:\n",
    "    global_modelproc, _, client_modelsproc, loss_dictproc, clients_indexproc, acc_listproc= server_fedproc.fedproc(testset, dict_users_test_iid[0],test_global_model_accuracy = True)\n",
    "else:\n",
    "    acc_listproc = torch.load(\"results/Test/feature skew/emnist/fedproc/seed{}/acc_listproc_{}E_{}class.pt\".format(args.seed,args.E,C))\n",
    "    global_modelproc = server_fedproc.nn\n",
    "    client_modelsproc = server_fedproc.nns\n",
    "    path_fedproc = \"results/Test/feature skew/emnist/fedproc/seed{}/global_model_fedproc_{}E_{}class.pt\".format(args.seed,args.E,C)\n",
    "    global_modelproc.load_state_dict(torch.load(path_fedproc))\n",
    "    for i in range(args.K):\n",
    "        path_fedproc = \"results/Test/feature skew/emnist/fedproc/seed{}/client{}_model_fedproc_{}E_{}class.pt\".format(args.seed,i,args.E,C)\n",
    "        client_modelsproc[i].load_state_dict(torch.load(path_fedproc))"
   ]
  },
  {
   "cell_type": "code",
   "execution_count": null,
   "id": "63562bc5-32c7-4eb2-9cc8-10053ef32b2a",
   "metadata": {},
   "outputs": [],
   "source": [
    "if save_models:\n",
    "    torch.save(acc_listproc,\"results/Test/feature skew/emnist/fedproc/seed{}/acc_listproc_{}E_{}class.pt\".format(args.seed,args.E,C))\n",
    "    path_fedproc = \"results/Test/feature skew/emnist/fedproc/seed{}/global_model_fedproc_{}E_{}class.pt\".format(args.seed,args.E,C)\n",
    "    torch.save(global_modelproc.state_dict(), path_fedproc)"
   ]
  },
  {
   "cell_type": "code",
   "execution_count": null,
   "id": "d915ba1c-446f-4adc-89fb-16e8c62855de",
   "metadata": {},
   "outputs": [],
   "source": [
    "gproc,_ = test_on_globaldataset(args, global_modelproc, testset)\n",
    "gproc"
   ]
  },
  {
   "cell_type": "code",
   "execution_count": null,
   "id": "7519ca50-267f-4423-b022-d68242d4f618",
   "metadata": {},
   "outputs": [],
   "source": [
    "aproc,_ =globalmodel_test_on_localdataset(args,global_modelproc, testset,dict_users_test)\n",
    "np.mean(list(aproc.values()))"
   ]
  },
  {
   "cell_type": "code",
   "execution_count": null,
   "id": "c70124eb-44d4-471d-8d1f-a2b6653d06e5",
   "metadata": {},
   "outputs": [],
   "source": [
    "if Train_model:\n",
    "    train_loss_show(args, loss_dictproc,clients_indexproc)"
   ]
  },
  {
   "cell_type": "code",
   "execution_count": null,
   "id": "43f11590-2086-4bc6-a332-5b163a65ffda",
   "metadata": {},
   "outputs": [],
   "source": [
    "#  our method---->fedfa"
   ]
  },
  {
   "cell_type": "code",
   "execution_count": null,
   "id": "8e2ea59f-a3b3-4f28-a7d4-207cb690ae86",
   "metadata": {},
   "outputs": [],
   "source": [
    "server_feature = copy.deepcopy(serverz)"
   ]
  },
  {
   "cell_type": "code",
   "execution_count": null,
   "id": "f249ab67-350d-4e1c-9bc7-0b794939d098",
   "metadata": {},
   "outputs": [],
   "source": [
    "if Train_model:\n",
    "    global_modelfa, _, client_modelsfa, loss_dictfa, clients_indexfa, acc_listfa = server_feature.fedfa_anchorloss(testset, dict_users_test,\n",
    "                                                                                                             test_global_model_accuracy = True)\n",
    "else:\n",
    "    acc_listfa = torch.load(\"results/Test/feature skew/emnist/fedfa/seed{}/acc_listfa_{}E_{}class.pt\".format(args.seed,args.E,C))\n",
    "    global_modelfa = server_feature.nn\n",
    "    client_modelsfa = server_feature.nns\n",
    "    path_fedfa = \"results/Test/feature skew/emnist/fedfa/seed{}/global_model_fedfa_{}E_{}class\".format(args.seed,args.E,C)\n",
    "    global_modelfa.load_state_dict(torch.load(path_fedfa))\n",
    "    for i in range(args.K):\n",
    "        path_fedfa = \"results/Test/feature skew/emnist/fedfa/seed{}/client{}_model_fedfa_{}E_{}class\".format(args.seed,i,args.E,C)\n",
    "        client_modelsfa[i].load_state_dict(torch.load(path_fedfa))"
   ]
  },
  {
   "cell_type": "code",
   "execution_count": null,
   "id": "ff965b64-a656-4eeb-8b02-10bc9999e115",
   "metadata": {},
   "outputs": [],
   "source": [
    "if save_models:\n",
    "    torch.save(acc_listfa,\"results/Test/feature skew/emnist/fedfa/seed{}/acc_listfa_{}E_{}class.pt\".format(args.seed,args.E,C))\n",
    "    path_fedfa = \"results/Test/feature skew/emnist/fedfa/seed{}/global_model_fedfa_{}E_{}class\".format(args.seed,args.E,C)\n",
    "    torch.save(global_modelfa.state_dict(), path_fedfa)"
   ]
  },
  {
   "cell_type": "code",
   "execution_count": null,
   "id": "8ea45a1c-4c56-4116-b98b-e354741a426d",
   "metadata": {},
   "outputs": [],
   "source": [
    "gfa,_ = test_on_globaldataset(args, global_modelfa, testset)\n",
    "gfa"
   ]
  },
  {
   "cell_type": "code",
   "execution_count": null,
   "id": "3f697b77-0764-400f-8d88-0849b087b420",
   "metadata": {},
   "outputs": [],
   "source": [
    "afa,_ =globalmodel_test_on_localdataset(args,global_modelfa, testset,dict_users_test)\n",
    "np.mean(list(afa.values()))"
   ]
  },
  {
   "cell_type": "code",
   "execution_count": null,
   "id": "5fe49e6f-2e19-4b64-9ecf-4e155739debb",
   "metadata": {},
   "outputs": [],
   "source": [
    "if Train_model:\n",
    "    train_loss_show(args, loss_dictfa,clients_indexfa)"
   ]
  },
  {
   "cell_type": "code",
   "execution_count": null,
   "id": "c68b87d9-8e6e-4be1-b02e-8c4958157691",
   "metadata": {},
   "outputs": [],
   "source": [
    "plt.plot(range(args.r),acc_list_iid, label=\"iid-fedavg\")\n",
    "plt.plot(range(args.r),acc_listfa, label=\"fedfa\")\n",
    "plt.plot(range(args.r),acc_list1, label=\"fedavg\")\n",
    "plt.plot(range(args.r),acc_listp, label=\"fedprox\")\n",
    "plt.plot(range(args.r),acc_listdyn, label=\"feddyn\")\n",
    "plt.plot(range(args.r),acc_listm, label=\"moon\")\n",
    "plt.plot(range(args.r),acc_listproc,label=\"fedproc\")\n",
    "plt.legend()"
   ]
  }
 ],
 "metadata": {
  "kernelspec": {
   "display_name": "Python 3 (ipykernel)",
   "language": "python",
   "name": "python3"
  },
  "language_info": {
   "codemirror_mode": {
    "name": "ipython",
    "version": 3
   },
   "file_extension": ".py",
   "mimetype": "text/x-python",
   "name": "python",
   "nbconvert_exporter": "python",
   "pygments_lexer": "ipython3",
   "version": "3.9.7"
  },
  "widgets": {
   "application/vnd.jupyter.widget-state+json": {
    "state": {
     "0f54e6b75ea34471b30428d4049197da": {
      "model_module": "@jupyter-widgets/controls",
      "model_module_version": "1.5.0",
      "model_name": "HBoxModel",
      "state": {
       "children": [
        "IPY_MODEL_d130bb6f4d234568bc3bfac9880881bb",
        "IPY_MODEL_5a18d23f933e4bdb93beb94a139db348",
        "IPY_MODEL_1ae23924d9f24527a39b90d128863ccd"
       ],
       "layout": "IPY_MODEL_a7a95959a8e3414d9ff40133ae48a38b"
      }
     },
     "1ae23924d9f24527a39b90d128863ccd": {
      "model_module": "@jupyter-widgets/controls",
      "model_module_version": "1.5.0",
      "model_name": "HTMLModel",
      "state": {
       "layout": "IPY_MODEL_5143f00c0b564dbf9033560bc5eabd47",
       "style": "IPY_MODEL_c5a0458082ef49898d2401bc82c5df29",
       "value": " 77217792/? [00:07&lt;00:00, 11337436.71it/s]"
      }
     },
     "3fcc1a24f7fa4489b1526baebbe34a10": {
      "model_module": "@jupyter-widgets/base",
      "model_module_version": "1.2.0",
      "model_name": "LayoutModel",
      "state": {}
     },
     "5143f00c0b564dbf9033560bc5eabd47": {
      "model_module": "@jupyter-widgets/base",
      "model_module_version": "1.2.0",
      "model_name": "LayoutModel",
      "state": {}
     },
     "5a18d23f933e4bdb93beb94a139db348": {
      "model_module": "@jupyter-widgets/controls",
      "model_module_version": "1.5.0",
      "model_name": "FloatProgressModel",
      "state": {
       "bar_style": "success",
       "layout": "IPY_MODEL_8b6b06ee123f4543a6e748a97cd6980d",
       "max": 77217109,
       "style": "IPY_MODEL_866c237ca73c4eac800a7055d8af9031",
       "value": 77217109
      }
     },
     "866c237ca73c4eac800a7055d8af9031": {
      "model_module": "@jupyter-widgets/controls",
      "model_module_version": "1.5.0",
      "model_name": "ProgressStyleModel",
      "state": {
       "description_width": ""
      }
     },
     "8b6b06ee123f4543a6e748a97cd6980d": {
      "model_module": "@jupyter-widgets/base",
      "model_module_version": "1.2.0",
      "model_name": "LayoutModel",
      "state": {}
     },
     "8cf78191d2764bb9ae4608f1d40ae058": {
      "model_module": "@jupyter-widgets/controls",
      "model_module_version": "1.5.0",
      "model_name": "DescriptionStyleModel",
      "state": {
       "description_width": ""
      }
     },
     "a7a95959a8e3414d9ff40133ae48a38b": {
      "model_module": "@jupyter-widgets/base",
      "model_module_version": "1.2.0",
      "model_name": "LayoutModel",
      "state": {}
     },
     "c5a0458082ef49898d2401bc82c5df29": {
      "model_module": "@jupyter-widgets/controls",
      "model_module_version": "1.5.0",
      "model_name": "DescriptionStyleModel",
      "state": {
       "description_width": ""
      }
     },
     "d130bb6f4d234568bc3bfac9880881bb": {
      "model_module": "@jupyter-widgets/controls",
      "model_module_version": "1.5.0",
      "model_name": "HTMLModel",
      "state": {
       "layout": "IPY_MODEL_3fcc1a24f7fa4489b1526baebbe34a10",
       "style": "IPY_MODEL_8cf78191d2764bb9ae4608f1d40ae058"
      }
     }
    },
    "version_major": 2,
    "version_minor": 0
   }
  }
 },
 "nbformat": 4,
 "nbformat_minor": 5
}
